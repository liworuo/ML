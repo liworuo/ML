{
 "cells": [
  {
   "cell_type": "code",
   "execution_count": null,
   "metadata": {},
   "outputs": [],
   "source": [
    "import pandas as pd\n",
    "import numpy as np\n",
    "from sklearn.linear_model import LinearRegression\n",
    "import matplotlib.pyplot as plt\n",
    "from scipy import stats\n",
    "\n",
    "data = pd.read_csv(\"房价预测.csv\")\n",
    "x = data[\"Year\"].values\n",
    "y = data[\"Price\"].values"
   ]
  },
  {
   "cell_type": "code",
   "execution_count": null,
   "metadata": {},
   "outputs": [],
   "source": [
    "model = LinearRegression().fit(x.reshape(-1,1), y)\n",
    "y_result = model.predict(x.reshape(-1,1))"
   ]
  },
  {
   "cell_type": "code",
   "execution_count": null,
   "metadata": {},
   "outputs": [],
   "source": [
    "slope, intercept, r_value, p_value, std_err = stats.linregress(x, y)\n",
    "y_fit = slope * x + intercept\n",
    "t_value = slope / std_err\n",
    "mse = ((data['Price'] - y_result)**2).mean()\n"
   ]
  },
  {
   "cell_type": "code",
   "execution_count": null,
   "metadata": {},
   "outputs": [],
   "source": [
    "plt.figure(figsize=(5, 3))\n",
    "plt.scatter(x, y, label='Original Data')\n",
    "plt.plot(x, y_fit, color='red', label='Fitted Line')\n",
    "plt.xlabel('Year')\n",
    "plt.ylabel('Price (Unit: Thousand Yuan/m²)')\n",
    "plt.title('Nanjing Housing Price Trend')\n",
    "plt.legend()\n",
    "plt.grid(True)"
   ]
  },
  {
   "cell_type": "code",
   "execution_count": null,
   "metadata": {},
   "outputs": [],
   "source": [
    "print(f\"R^2为: {r_value}\")\n",
    "print(f\"t变量为: {t_value}\")\n",
    "print(f\"p变量为: {p_value}\")\n",
    "print(f\"均方误差为: {mse}\")\n",
    "print(f\"斜率为: {slope}\")\n",
    "print(f\"截距为: {intercept}\")\n",
    "print(f\"斜率标准差为: {std_err}\")"
   ]
  },
  {
   "cell_type": "code",
   "execution_count": null,
   "metadata": {},
   "outputs": [],
   "source": [
    "# 预测未来房价和置信区间\n",
    "future_years = np.array([2014, 2015, 2016, 2017, 2018, 2019, 2020]).reshape(-1, 1)\n",
    "future_prices = model.predict(future_years)\n",
    "\n",
    "# 计算置信区间\n",
    "tinv = lambda p, df: abs(stats.t.ppf(p/2, df))\n",
    "ts = tinv(0.05, len(x) - 2)  # 95% 置信度\n",
    "\n",
    "# 计算预测值的标准误差\n",
    "x_mean = x.mean() # 计算X的均值，用.values取出numpy数组再计算，避免pandas series的广播问题\n",
    "pred_std = np.sqrt(mse * (1 + 1/len(x) + (future_years - x_mean)**2 / np.sum((x- x_mean)**2))).reshape(-1,1) #对X也做类似处理\n",
    "\n",
    "\n",
    "interval = pred_std * ts\n",
    "\n",
    "print(f\"2014-2020预测值：{future_prices}\")\n",
    "print(f\"置信区间：\")\n",
    "#输出预测值和对应的置信区间\n",
    "for i in range (len(future_years)):\n",
    "    print(f\"{future_years[i][0]}年预测均价：{future_prices[i]} 置信区间：[{future_prices[i]-interval[i][0]},{future_prices[i]+interval[i][0]}]\")"
   ]
  }
 ],
 "metadata": {
  "kernelspec": {
   "display_name": "Python 3",
   "language": "python",
   "name": "python3"
  },
  "language_info": {
   "codemirror_mode": {
    "name": "ipython",
    "version": 3
   },
   "file_extension": ".py",
   "mimetype": "text/x-python",
   "name": "python",
   "nbconvert_exporter": "python",
   "pygments_lexer": "ipython3",
   "version": "3.12.3"
  }
 },
 "nbformat": 4,
 "nbformat_minor": 2
}
