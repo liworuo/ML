{
 "cells": [
  {
   "cell_type": "code",
   "execution_count": null,
   "metadata": {},
   "outputs": [],
   "source": [
    "import pandas as pd\n",
    "from sklearn.svm import SVC\n",
    "from sklearn.model_selection import train_test_split\n",
    "import matplotlib.pyplot as plt\n",
    "from sklearn import metrics"
   ]
  },
  {
   "cell_type": "code",
   "execution_count": null,
   "metadata": {},
   "outputs": [],
   "source": [
    "bedroom = pd.read_csv('bedroom.csv', header=None)\n",
    "forest = pd.read_csv('forest.csv', header=None)\n",
    "x = pd.concat([bedroom, forest], ignore_index=True)\n",
    "y = pd.read_csv('labelset.csv', header=None)\n",
    "X_train, X_test, y_train, y_test = train_test_split(\n",
    "    x, y, test_size=0.3, stratify=y)"
   ]
  },
  {
   "cell_type": "code",
   "execution_count": null,
   "metadata": {},
   "outputs": [],
   "source": [
    "model = SVC(kernel='linear').fit(X_train, y_train)"
   ]
  },
  {
   "cell_type": "code",
   "execution_count": null,
   "metadata": {},
   "outputs": [],
   "source": [
    "y_pred = model.predict(X_test)"
   ]
  },
  {
   "cell_type": "code",
   "execution_count": null,
   "metadata": {},
   "outputs": [],
   "source": [
    "support_vectors = model.support_vectors_\n",
    "support_vector_indices = model.support_\n",
    "n_support = model.n_support_"
   ]
  },
  {
   "cell_type": "code",
   "execution_count": null,
   "metadata": {},
   "outputs": [],
   "source": [
    "# 准确率\n",
    "print(metrics.accuracy_score(y_test, y_pred))\n",
    "# 精确率\n",
    "print(metrics.precision_score(y_test,y_pred))\n",
    "# 召回率\n",
    "print(metrics.recall_score(y_test,y_pred))\n",
    "\n",
    "print(f\"支持向量:\\n{support_vectors}\")\n",
    "print(f\"支持向量的索引:\\n{support_vector_indices}\")\n",
    "print(f\"每个类别的支持向量的数量:\\n{n_support}\")"
   ]
  }
 ],
 "metadata": {
  "kernelspec": {
   "display_name": "Python 3",
   "language": "python",
   "name": "python3"
  },
  "language_info": {
   "codemirror_mode": {
    "name": "ipython",
    "version": 3
   },
   "file_extension": ".py",
   "mimetype": "text/x-python",
   "name": "python",
   "nbconvert_exporter": "python",
   "pygments_lexer": "ipython3",
   "version": "3.12.3"
  }
 },
 "nbformat": 4,
 "nbformat_minor": 2
}
